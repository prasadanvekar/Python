{
  "nbformat": 4,
  "nbformat_minor": 0,
  "metadata": {
    "colab": {
      "provenance": [],
      "collapsed_sections": [
        "u-_h6olCLY17",
        "lNnEM7-NPSV5",
        "PoGh7SlRQMCd",
        "bTTUBljXQqvS",
        "VVd7Hu0_Q5_1",
        "YL7Gvf6sRaqM",
        "fNtW79SiR8cM"
      ],
      "authorship_tag": "ABX9TyOYyJqr+yv9XQ/CwOBFtYbu",
      "include_colab_link": true
    },
    "kernelspec": {
      "name": "python3",
      "display_name": "Python 3"
    },
    "language_info": {
      "name": "python"
    }
  },
  "cells": [
    {
      "cell_type": "markdown",
      "metadata": {
        "id": "view-in-github",
        "colab_type": "text"
      },
      "source": [
        "<a href=\"https://colab.research.google.com/github/prasadanvekar/Python/blob/master/Intermediate_python.ipynb\" target=\"_parent\"><img src=\"https://colab.research.google.com/assets/colab-badge.svg\" alt=\"Open In Colab\"/></a>"
      ]
    },
    {
      "cell_type": "markdown",
      "source": [
        "#Intermediate Python Concepts"
      ],
      "metadata": {
        "id": "jtAXk6RDDwln"
      }
    },
    {
      "cell_type": "markdown",
      "source": [
        "# Advance Data Structures\n",
        "\n",
        "# List\n",
        "a list is an ordered collection of items, which can be of any data type, such as integers, strings, or even other lists. Lists are mutable, meaning that their contents can be changed after the list has been created.\n",
        "\n",
        "# List Comprehension\n",
        "\n",
        "List comprehension provides a concise way to create lists. It allows you to generate a new list by applying an expression to each item in an existing list (or another iterable) based on a condition."
      ],
      "metadata": {
        "id": "wfuIGj9uD15M"
      }
    },
    {
      "cell_type": "code",
      "source": [
        "# Create a list of numbers from 1 to 10\n",
        "numbers = [1, 2, 3, 4, 5, 6, 7, 8, 9, 10]\n",
        "\n",
        "# List comprehension to get only even numbers\n",
        "even_numbers = [num for num in numbers if num % 2 == 0]\n",
        "\n",
        "print(even_numbers)\n"
      ],
      "metadata": {
        "id": "Ze2yyaa9LJ3c"
      },
      "execution_count": null,
      "outputs": []
    },
    {
      "cell_type": "markdown",
      "source": [
        "# Dictonaries:\n",
        "is an unordered collection of items. It stores data in key-value pairs, where each key is unique and is mapped to a specific value. Dictionaries are mutable, meaning you can change the contents (add, remove, or modify key-value pairs) after the dictionary has been created.\n",
        "\n",
        "A dictionary is defined using curly braces {}, with each key-value pair separated by a colon (:) and pairs separated by commas.\n",
        "\n",
        "# Dictonary Comprehension:\n",
        "is a concise and efficient way to create dictionaries. It's similar to list comprehension but creates dictionaries instead of lists. It allows you to generate a new dictionary by applying an expression to each item in an iterable, optionally filtering elements based on a condition.\n",
        "\n",
        "Syntax:\n",
        "{key_expression: value_expression for item in iterable if condition}\n"
      ],
      "metadata": {
        "id": "u-_h6olCLY17"
      }
    },
    {
      "cell_type": "code",
      "source": [
        "my_dict = {'apple': 1, 'banana': 2, 'cherry': 3}\n",
        "\n",
        "\n",
        "# Dictionary comprehension to create a dictionary of numbers and their squares\n",
        "squares_dict = {num: num**2 for num in range(1, 6)}\n",
        "\n",
        "print(squares_dict)"
      ],
      "metadata": {
        "colab": {
          "base_uri": "https://localhost:8080/"
        },
        "id": "KFtF_hpULyjR",
        "outputId": "89030170-9db9-4264-9221-787ca4cfb524"
      },
      "execution_count": 3,
      "outputs": [
        {
          "output_type": "stream",
          "name": "stdout",
          "text": [
            "{1: 1, 2: 4, 3: 9, 4: 16, 5: 25}\n"
          ]
        }
      ]
    },
    {
      "cell_type": "markdown",
      "source": [
        "#Set\n",
        "\n",
        "is an unordered collection of unique elements in Python. Sets do not allow duplicates, and their elements are unordered, meaning the order in which elements are added does not matter. Sets are mutable, which means you can add or remove elements."
      ],
      "metadata": {
        "id": "lNnEM7-NPSV5"
      }
    },
    {
      "cell_type": "code",
      "source": [
        "my_set = {1, 2, 3}\n"
      ],
      "metadata": {
        "id": "c-6ijrocQERU"
      },
      "execution_count": null,
      "outputs": []
    },
    {
      "cell_type": "markdown",
      "source": [
        "# Tuple\n",
        "\n",
        "is an ordered collection of elements that can hold multiple items. Unlike lists, tuples are immutable, meaning once a tuple is created, its elements cannot be changed, added, or removed."
      ],
      "metadata": {
        "id": "PoGh7SlRQMCd"
      }
    },
    {
      "cell_type": "code",
      "source": [
        "my_tuple = (1, 2, 3)\n"
      ],
      "metadata": {
        "id": "jgTH_LKzQShx"
      },
      "execution_count": null,
      "outputs": []
    },
    {
      "cell_type": "code",
      "source": [
        "#Create a Tuple with 3 Elements and Modify One Element\n",
        "my_tuple = (10, 20, 30)\n",
        "\n",
        "# Trying to modify an element (this will raise an error)\n",
        "my_tuple[1] = 25\n"
      ],
      "metadata": {
        "collapsed": true,
        "id": "XxMWV4ZtQf87"
      },
      "execution_count": null,
      "outputs": []
    },
    {
      "cell_type": "markdown",
      "source": [
        "#Create a Dictionary to Store Names and Grades of 3 Students"
      ],
      "metadata": {
        "id": "bTTUBljXQqvS"
      }
    },
    {
      "cell_type": "code",
      "source": [
        "# Create a dictionary with names and grades\n",
        "grades_dict = {'Alice': 85, 'Bob': 92, 'Charlie': 78}\n",
        "\n",
        "# Add a new student to the dictionary\n",
        "grades_dict['David'] = 88\n",
        "\n",
        "print(grades_dict)\n"
      ],
      "metadata": {
        "id": "yuS-u9VvQ0pH"
      },
      "execution_count": null,
      "outputs": []
    },
    {
      "cell_type": "markdown",
      "source": [
        "#Create a Set of Unique Colors and Try to Add Duplicates"
      ],
      "metadata": {
        "id": "VVd7Hu0_Q5_1"
      }
    },
    {
      "cell_type": "code",
      "source": [
        "# Create a set of colors\n",
        "colors_set = {'red', 'blue', 'green'}\n",
        "\n",
        "# Try to add duplicate colors\n",
        "colors_set.add('red')\n",
        "colors_set.add('yellow')\n",
        "\n",
        "# Check the size of the set\n",
        "print(colors_set)\n",
        "print(\"Set size:\", len(colors_set))\n"
      ],
      "metadata": {
        "id": "cBIfoEYwQ5Ee"
      },
      "execution_count": null,
      "outputs": []
    },
    {
      "cell_type": "markdown",
      "source": [
        "#Functions\n",
        "in Python is a block of reusable code designed to perform a specific task. Functions allow you to group related statements together so they can be executed multiple times without rewriting the code.\n",
        "\n",
        "Functions are defined using the def keyword followed by the function name and parameters. They can return values using the return keyword.\n"
      ],
      "metadata": {
        "id": "YL7Gvf6sRaqM"
      }
    },
    {
      "cell_type": "code",
      "source": [
        "def greet(name):\n",
        "    return f\"Hello, {name}!\"\n"
      ],
      "metadata": {
        "id": "z-7jl4FCR3TV"
      },
      "execution_count": null,
      "outputs": []
    },
    {
      "cell_type": "markdown",
      "source": [
        "#Write a Function is_even(n) that Returns True if n is Even, Otherwise False.\n"
      ],
      "metadata": {
        "id": "fNtW79SiR8cM"
      }
    },
    {
      "cell_type": "code",
      "source": [
        "def is_even(n):\n",
        "    if n % 2 == 0:\n",
        "        return True\n",
        "    else:\n",
        "        return False\n"
      ],
      "metadata": {
        "id": "j8V4Lw7_SEXN"
      },
      "execution_count": null,
      "outputs": []
    },
    {
      "cell_type": "markdown",
      "source": [
        "#Lambda Expressions\n",
        "A lambda expression (or lambda function) is a small anonymous function defined using the lambda keyword. Unlike regular functions defined with def, lambda functions are single-line functions and do not require a name.\n",
        "\n",
        "The syntax of a lambda function is:\n",
        "\n",
        "lambda arguments: expression\n"
      ],
      "metadata": {
        "id": "gT9H7LjySGnN"
      }
    },
    {
      "cell_type": "code",
      "source": [
        "square = lambda x: x ** 2\n",
        "print(square(4))  # Output: 16\n"
      ],
      "metadata": {
        "id": "z7IZ31KKSRMj"
      },
      "execution_count": null,
      "outputs": []
    },
    {
      "cell_type": "code",
      "source": [
        "#Use a Lambda Function to Sort a List by the Second Element\n",
        "# List of tuples\n",
        "items = [(\"apple\", 2), (\"banana\", 1), (\"cherry\", 3)]\n",
        "\n",
        "# Sort the list by the second element of each tuple (using lambda)\n",
        "sorted_items = sorted(items, key=lambda x: x[1])\n",
        "\n",
        "print(sorted_items)\n",
        "\n"
      ],
      "metadata": {
        "id": "3Yq8IgWrSWWw"
      },
      "execution_count": null,
      "outputs": []
    },
    {
      "cell_type": "code",
      "source": [
        "#Write a lambda Function is_even(n)\n",
        "is_even = lambda n: n % 2 == 0\n"
      ],
      "metadata": {
        "id": "LMo3sNHtSka0"
      },
      "execution_count": 5,
      "outputs": []
    },
    {
      "cell_type": "markdown",
      "source": [
        "#Error Handling\n",
        "\n",
        "Error handling in Python allows you to manage exceptions (errors) that might occur during program execution. It helps your program to continue running smoothly instead of crashing when an error is encountered. Python uses try, except, else, and finally blocks for handling exceptions.\n",
        "\n",
        "1. try block: Code that might cause an exception is written inside the try block.\n",
        "2. except block: This block handles the exception if one occurs.\n",
        "3. else block: Code that will run if no exception is raised in the try block.\n",
        "4. finally block: Code that will run no matter what (whether an exception occurs or not).\n",
        "\n",
        "\n"
      ],
      "metadata": {
        "id": "VYKYn2nPTBcW"
      }
    },
    {
      "cell_type": "code",
      "source": [
        "#Program to Ask for a Number and Print its Reciprocal with Error Handling:\n",
        "\n",
        "try:\n",
        "    # Ask the user for input\n",
        "    number = float(input(\"Enter a number: \"))\n",
        "\n",
        "    # Calculate the reciprocal\n",
        "    reciprocal = 1 / number\n",
        "\n",
        "except ZeroDivisionError:\n",
        "    # Handle the case where the user enters 0\n",
        "    print(\"Error: Cannot divide by zero. Reciprocal of 0 does not exist.\")\n",
        "\n",
        "except ValueError:\n",
        "    # Handle the case where the user enters a non-numeric value\n",
        "    print(\"Error: Please enter a valid number.\")\n",
        "\n",
        "else:\n",
        "    # If no error occurs, print the reciprocal\n",
        "    print(f\"The reciprocal of {number} is {reciprocal}\")\n"
      ],
      "metadata": {
        "id": "SMtZjIZaTknK"
      },
      "execution_count": null,
      "outputs": []
    },
    {
      "cell_type": "markdown",
      "source": [
        "#File Handling\n",
        "\n",
        "File handling in Python allows you to work with files—read from them, write to them, and manipulate their contents. Python provides built-in functions and methods to handle files.\n",
        "\n",
        "Common File Operations:\n",
        "Opening a file: Use the open() function to open a file. It returns a file object.\n",
        "Reading a file: Use methods like read(), readline(), or readlines() to read the contents of a file.\n",
        "Writing to a file: Use methods like write() or writelines() to write to a file.\n",
        "Closing a file: Use close() to close the file after performing operations.\n",
        "File modes: When opening a file, you need to specify a mode:\n",
        "* 'r' - Read (default mode)\n",
        "* 'w' - Write (creates a new file or overwrites an existing one)\n",
        "* 'a' - Append (adds data to an existing file)\n",
        "* 'rb', 'wb', etc., for binary files"
      ],
      "metadata": {
        "id": "rX3oL67-T-6i"
      }
    },
    {
      "cell_type": "code",
      "source": [
        "#Reading Data from a File and Printing Each Line\n",
        "\n",
        "# Open the file in read mode\n",
        "with open('example.txt', 'r') as file:\n",
        "    # Read and print each line from the file\n",
        "    for line in file:\n",
        "        print(line.strip())  # .strip() removes trailing newline characters\n"
      ],
      "metadata": {
        "id": "kvY1uFrYUotB"
      },
      "execution_count": null,
      "outputs": []
    },
    {
      "cell_type": "code",
      "source": [
        "# Writing to and Reading from a File (notes.txt)\n",
        "\n",
        "# Open the file in write mode and write data\n",
        "\n",
        "with open('notes.txt', 'w') as file:\n",
        "    file.write(\"Name: John Doe\\n\")\n",
        "    file.write(\"Age: 25\\n\")\n",
        "\n",
        "# Open the file in read mode and print its contents\n",
        "with open('notes.txt', 'r') as file:\n",
        "    contents = file.read()\n",
        "    print(contents)\n",
        "\n"
      ],
      "metadata": {
        "id": "mTG5GPhWUvd2"
      },
      "execution_count": null,
      "outputs": []
    },
    {
      "cell_type": "markdown",
      "source": [
        "#Using the math Library to Calculate the Area of a Circle\n",
        "The formula for the area of a circle is:\n",
        "\n",
        "Area\n",
        "=\n",
        "𝜋\n",
        "×\n",
        "𝑟\n",
        "2\n"
      ],
      "metadata": {
        "id": "hOdCx81gVZtB"
      }
    },
    {
      "cell_type": "code",
      "source": [
        "import math\n",
        "\n",
        "# Given radius\n",
        "radius = 5\n",
        "\n",
        "# Calculate the area of the circle\n",
        "area = math.pi * radius ** 2\n",
        "\n",
        "# Print the area\n",
        "print(f\"The area of the circle with radius {radius} is {area:.2f}\")\n"
      ],
      "metadata": {
        "id": "usqSf1kkVr16"
      },
      "execution_count": null,
      "outputs": []
    },
    {
      "cell_type": "markdown",
      "source": [
        "#Using the random Library to Shuffle a List of Numbers from 1 to 10\n"
      ],
      "metadata": {
        "id": "Tv0GUZXFVvlB"
      }
    },
    {
      "cell_type": "code",
      "source": [
        "import random\n",
        "\n",
        "# List of numbers from 1 to 10\n",
        "numbers = list(range(1, 11))\n",
        "\n",
        "# Shuffle the list\n",
        "random.shuffle(numbers)\n",
        "\n",
        "# Print the shuffled list\n",
        "print(f\"The shuffled list is: {numbers}\")\n"
      ],
      "metadata": {
        "id": "GtdNV3oCV31I"
      },
      "execution_count": null,
      "outputs": []
    },
    {
      "cell_type": "markdown",
      "source": [
        "#Object Oriented Programming Concepts\n",
        "\n",
        "Class:\n",
        "\n",
        "A class is a blueprint for creating objects (instances). It defines the properties (attributes) and behaviors (methods) that objects of that class will have.\n",
        "A class is created using the class keyword\n",
        "\n",
        "Object:\n",
        "\n",
        "An object is an instance of a class. It represents a specific entity created based on the class blueprint.\n",
        "Objects are created by calling the class like a function\n",
        "\n",
        "Inheritance:\n",
        "\n",
        "Inheritance allows a class to inherit attributes and methods from another class. The new class (child or subclass) can reuse code from the existing class (parent or superclass), and can also add or modify its own properties and behaviors.\n",
        "You define inheritance by passing the parent class as a parameter in the child class\n",
        "\n",
        "Polymorphism:\n",
        "\n",
        "Polymorphism allows objects of different classes to be treated as objects of a common superclass. The most common use is when different classes have methods with the same name but potentially different implementations.\n",
        "\n",
        "Method Overriding (in inheritance) is an example of polymorphism\n",
        "\n",
        "\n",
        "Encapsulation:\n",
        "\n",
        "Encapsulation is the concept of restricting access to certain details of an object and only exposing a controlled interface. This helps in hiding the internal workings of an object and protecting data from unintended modifications.\n",
        "\n",
        "In Python, this can be achieved by using public, private, and protected access modifiers. Private variables are prefixed with two underscores (__), making them inaccessible outside the class.\n",
        "\n",
        "\n",
        "Abstraction:\n",
        "\n",
        "Abstraction is the concept of hiding complex implementation details and exposing only the necessary functionality to the user.\n",
        "In Python, abstraction can be achieved using abstract classes and methods. You use the abc module to define abstract classes.\n",
        "\n",
        "Benefits:\n",
        "* Reusability: Code can be reused through inheritance.\n",
        "* Scalability: It is easier to manage and scale the application with object-oriented code.\n",
        "* Maintainability: OOP makes it easier to manage and update code.\n",
        "* Flexibility: Polymorphism and inheritance provide more flexibility and extend the functionality of existing code."
      ],
      "metadata": {
        "id": "JRLqCdgFWVie"
      }
    },
    {
      "cell_type": "code",
      "source": [
        "#Example of Class:\n",
        "\n",
        "class Dog:\n",
        "    # Constructor to initialize the attributes\n",
        "    def __init__(self, name, breed):\n",
        "        self.name = name  # Attribute for dog's name\n",
        "        self.breed = breed  # Attribute for dog's breed\n",
        "\n",
        "    # Method to describe the dog\n",
        "    def bark(self):\n",
        "        return f\"{self.name} says Woof!\"\n",
        "\n",
        "# Example of Object:\n",
        "my_dog = Dog(\"Buddy\", \"Golden Retriever\")\n",
        "print(my_dog.bark())  # Output: Buddy says Woof!\n",
        "\n",
        "\n",
        "#Example of Inheritance:\n",
        "class Animal:\n",
        "    def speak(self):\n",
        "        return \"Animal makes a sound\"\n",
        "\n",
        "class Dog(Animal):  # Inherits from Animal class\n",
        "    def bark(self):\n",
        "        return \"Woof!\"\n",
        "\n",
        "dog = Dog()\n",
        "print(dog.speak())  # Output: Animal makes a sound\n",
        "print(dog.bark())   # Output: Woof!\n",
        "\n",
        "#Example of Polymorphism\n",
        "\n",
        "class Cat(Animal):  # Inherits from Animal class\n",
        "    def speak(self):\n",
        "        return \"Meow!\"\n",
        "\n",
        "def animal_sound(animal):\n",
        "    print(animal.speak())\n",
        "\n",
        "dog = Dog()\n",
        "cat = Cat()\n",
        "\n",
        "animal_sound(dog)  # Output: Animal makes a sound\n",
        "animal_sound(cat)  # Output: Meow!\n",
        "\n",
        "# Example of Encapsulation\n",
        "\n",
        "class Person:\n",
        "    def __init__(self, name, age):\n",
        "        self.name = name   # public attribute\n",
        "        self.__age = age   # private attribute\n",
        "\n",
        "    def get_age(self):  # Public method to access private attribute\n",
        "        return self.__age\n",
        "\n",
        "person = Person(\"John\", 30)\n",
        "print(person.get_age())  # Output: 30\n",
        "# print(person.__age)  # This would raise an AttributeError\n",
        "\n",
        "# Example of Abstraction\n",
        "\n",
        "from abc import ABC, abstractmethod\n",
        "\n",
        "class Animal(ABC):\n",
        "    @abstractmethod\n",
        "    def sound(self):\n",
        "        pass\n",
        "\n",
        "class Dog(Animal):\n",
        "    def sound(self):\n",
        "        return \"Woof\"\n",
        "\n",
        "class Cat(Animal):\n",
        "    def sound(self):\n",
        "        return \"Meow\"\n",
        "\n",
        "dog = Dog()\n",
        "print(dog.sound())  # Output: Woof\n",
        "\n"
      ],
      "metadata": {
        "id": "fzO4qkM8W0rb"
      },
      "execution_count": null,
      "outputs": []
    },
    {
      "cell_type": "code",
      "source": [
        "#Example for OOP\n",
        "\n",
        "# Base class: Car\n",
        "class Car:\n",
        "    def __init__(self, make, model, year):\n",
        "        self.make = make        # Attribute: make of the car\n",
        "        self.model = model      # Attribute: model of the car\n",
        "        self.year = year        # Attribute: year of manufacture\n",
        "\n",
        "    # Method to start the engine\n",
        "    def start_engine(self):\n",
        "        print(\"Engine started\")\n",
        "\n",
        "# Subclass: ElectricCar (inherits from Car)\n",
        "class ElectricCar(Car):\n",
        "    def __init__(self, make, model, year, battery_size):\n",
        "        # Initialize attributes of the base class (Car)\n",
        "        super().__init__(make, model, year)\n",
        "\n",
        "        # Additional attribute for ElectricCar\n",
        "        self.battery_size = battery_size\n",
        "\n",
        "    # Optional method to display battery size\n",
        "    def display_battery_size(self):\n",
        "        print(f\"This electric car has a {self.battery_size}-kWh battery.\")\n",
        "\n",
        "# Creating an instance of the Car class\n",
        "car = Car(\"Toyota\", \"Corolla\", 2020)\n",
        "car.start_engine()  # Output: Engine started\n",
        "\n",
        "# Creating an instance of the ElectricCar class\n",
        "electric_car = ElectricCar(\"Tesla\", \"Model S\", 2022, 100)\n",
        "electric_car.start_engine()  # Output: Engine started\n",
        "electric_car.display_battery_size()  # Output: This electric car has a 100-kWh battery.\n"
      ],
      "metadata": {
        "id": "jdx9xrG8XVFa"
      },
      "execution_count": null,
      "outputs": []
    },
    {
      "cell_type": "code",
      "source": [
        "# Basic Calculator Code\n",
        "\n",
        "# Function for addition\n",
        "def add(x, y):\n",
        "    return x + y\n",
        "\n",
        "# Function for subtraction\n",
        "def subtract(x, y):\n",
        "    return x - y\n",
        "\n",
        "# Function for multiplication\n",
        "def multiply(x, y):\n",
        "    return x * y\n",
        "\n",
        "# Function for division with error handling\n",
        "def divide(x, y):\n",
        "    try:\n",
        "        result = x / y\n",
        "    except ZeroDivisionError:\n",
        "        return \"Error: Division by zero is not allowed.\"\n",
        "    return result\n",
        "\n",
        "# Function to display the menu\n",
        "def menu():\n",
        "    print(\"Select operation:\")\n",
        "    print(\"1. Addition\")\n",
        "    print(\"2. Subtraction\")\n",
        "    print(\"3. Multiplication\")\n",
        "    print(\"4. Division\")\n",
        "    print(\"5. Exit\")\n",
        "\n",
        "# Main program logic\n",
        "def calculator():\n",
        "    while True:\n",
        "        # Show the menu\n",
        "        menu()\n",
        "\n",
        "        # Take user input for the operation choice\n",
        "        choice = input(\"Enter choice (1/2/3/4/5): \")\n",
        "\n",
        "        # If the user wants to exit\n",
        "        if choice == '5':\n",
        "            print(\"Exiting the calculator. Thank you!\")\n",
        "            break\n",
        "\n",
        "        # Take user input for the numbers\n",
        "        try:\n",
        "            num1 = float(input(\"Enter first number: \"))\n",
        "            num2 = float(input(\"Enter second number: \"))\n",
        "        except ValueError:\n",
        "            print(\"Invalid input. Please enter numeric values.\")\n",
        "            continue\n",
        "\n",
        "        # Perform the operation based on user choice\n",
        "        if choice == '1':\n",
        "            print(f\"{num1} + {num2} = {add(num1, num2)}\")\n",
        "        elif choice == '2':\n",
        "            print(f\"{num1} - {num2} = {subtract(num1, num2)}\")\n",
        "        elif choice == '3':\n",
        "            print(f\"{num1} * {num2} = {multiply(num1, num2)}\")\n",
        "        elif choice == '4':\n",
        "            print(f\"{num1} / {num2} = {divide(num1, num2)}\")\n",
        "        else:\n",
        "            print(\"Invalid choice. Please select a valid operation.\")\n",
        "\n",
        "# Start the calculator program\n",
        "calculator()\n"
      ],
      "metadata": {
        "colab": {
          "base_uri": "https://localhost:8080/"
        },
        "id": "5uPbnRcsX_GR",
        "outputId": "f30ab1bb-8899-4f38-b852-e0b169e586ad"
      },
      "execution_count": 10,
      "outputs": [
        {
          "output_type": "stream",
          "name": "stdout",
          "text": [
            "Select operation:\n",
            "1. Addition\n",
            "2. Subtraction\n",
            "3. Multiplication\n",
            "4. Division\n",
            "5. Exit\n",
            "Enter choice (1/2/3/4/5): 1\n",
            "Enter first number: 2\n",
            "Enter second number: 2\n",
            "2.0 + 2.0 = 4.0\n",
            "Select operation:\n",
            "1. Addition\n",
            "2. Subtraction\n",
            "3. Multiplication\n",
            "4. Division\n",
            "5. Exit\n",
            "Enter choice (1/2/3/4/5): 2\n",
            "Enter first number: 1\n",
            "Enter second number: 1\n",
            "1.0 - 1.0 = 0.0\n",
            "Select operation:\n",
            "1. Addition\n",
            "2. Subtraction\n",
            "3. Multiplication\n",
            "4. Division\n",
            "5. Exit\n",
            "Enter choice (1/2/3/4/5): 5\n",
            "Exiting the calculator. Thank you!\n"
          ]
        }
      ]
    }
  ]
}